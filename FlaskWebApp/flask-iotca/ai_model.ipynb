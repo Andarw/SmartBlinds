{
 "cells": [
  {
   "cell_type": "code",
   "execution_count": 1,
   "metadata": {},
   "outputs": [],
   "source": [
    "import matplotlib.pyplot as plt\n",
    "import numpy as np\n",
    "import pandas as pd\n",
    "import seaborn as sns\n",
    "from sklearn.model_selection import train_test_split\n",
    "import mysql.connector"
   ]
  },
  {
   "cell_type": "code",
   "execution_count": 2,
   "metadata": {},
   "outputs": [],
   "source": [
    "mydb = mysql.connector.connect(\n",
    "        host=\"window.cda6cmuk8kg0.eu-north-1.rds.amazonaws.com\",\n",
    "        user=\"adminflask\",\n",
    "        password=\"bmwseria5\",\n",
    "        database=\"blind\"\n",
    "        )\n",
    "mycursor = mydb.cursor()\n",
    "\n",
    "mycursor.execute(\"SELECT * FROM sensor_data\")\n",
    "\n",
    "myresult = mycursor.fetchall()\n",
    "df = pd.DataFrame(myresult, columns =['id', 'temperature', 'humidity', 'light_intensity', 'blind_pos', 'window_pos', 'sensitivity','rdate'])"
   ]
  },
  {
   "cell_type": "code",
   "execution_count": 3,
   "metadata": {},
   "outputs": [
    {
     "name": "stdout",
     "output_type": "stream",
     "text": [
      "5\n"
     ]
    },
    {
     "data": {
      "text/plain": [
       "0"
      ]
     },
     "execution_count": 3,
     "metadata": {},
     "output_type": "execute_result"
    }
   ],
   "source": [
    "r1 = df.iloc[120]\n",
    "print(r1['rdate'].month)\n",
    "r1['rdate'].weekday()"
   ]
  },
  {
   "cell_type": "code",
   "execution_count": 41,
   "metadata": {},
   "outputs": [
    {
     "data": {
      "text/html": [
       "<div>\n",
       "<style scoped>\n",
       "    .dataframe tbody tr th:only-of-type {\n",
       "        vertical-align: middle;\n",
       "    }\n",
       "\n",
       "    .dataframe tbody tr th {\n",
       "        vertical-align: top;\n",
       "    }\n",
       "\n",
       "    .dataframe thead th {\n",
       "        text-align: right;\n",
       "    }\n",
       "</style>\n",
       "<table border=\"1\" class=\"dataframe\">\n",
       "  <thead>\n",
       "    <tr style=\"text-align: right;\">\n",
       "      <th></th>\n",
       "      <th>temperature</th>\n",
       "      <th>humidity</th>\n",
       "      <th>light_intensity</th>\n",
       "      <th>weekday</th>\n",
       "      <th>hour</th>\n",
       "    </tr>\n",
       "  </thead>\n",
       "  <tbody>\n",
       "    <tr>\n",
       "      <th>0</th>\n",
       "      <td>17.0</td>\n",
       "      <td>75.4</td>\n",
       "      <td>14.0</td>\n",
       "      <td>2.0</td>\n",
       "      <td>1.0</td>\n",
       "    </tr>\n",
       "    <tr>\n",
       "      <th>1</th>\n",
       "      <td>19.5</td>\n",
       "      <td>49.6</td>\n",
       "      <td>9.7</td>\n",
       "      <td>2.0</td>\n",
       "      <td>2.0</td>\n",
       "    </tr>\n",
       "    <tr>\n",
       "      <th>2</th>\n",
       "      <td>23.8</td>\n",
       "      <td>54.4</td>\n",
       "      <td>18.2</td>\n",
       "      <td>2.0</td>\n",
       "      <td>3.0</td>\n",
       "    </tr>\n",
       "    <tr>\n",
       "      <th>3</th>\n",
       "      <td>16.2</td>\n",
       "      <td>57.3</td>\n",
       "      <td>0.5</td>\n",
       "      <td>2.0</td>\n",
       "      <td>4.0</td>\n",
       "    </tr>\n",
       "    <tr>\n",
       "      <th>4</th>\n",
       "      <td>16.2</td>\n",
       "      <td>68.4</td>\n",
       "      <td>5.7</td>\n",
       "      <td>2.0</td>\n",
       "      <td>5.0</td>\n",
       "    </tr>\n",
       "    <tr>\n",
       "      <th>...</th>\n",
       "      <td>...</td>\n",
       "      <td>...</td>\n",
       "      <td>...</td>\n",
       "      <td>...</td>\n",
       "      <td>...</td>\n",
       "    </tr>\n",
       "    <tr>\n",
       "      <th>95</th>\n",
       "      <td>20.0</td>\n",
       "      <td>42.6</td>\n",
       "      <td>18.2</td>\n",
       "      <td>6.0</td>\n",
       "      <td>0.0</td>\n",
       "    </tr>\n",
       "    <tr>\n",
       "      <th>96</th>\n",
       "      <td>23.9</td>\n",
       "      <td>70.1</td>\n",
       "      <td>3.7</td>\n",
       "      <td>6.0</td>\n",
       "      <td>1.0</td>\n",
       "    </tr>\n",
       "    <tr>\n",
       "      <th>97</th>\n",
       "      <td>23.0</td>\n",
       "      <td>57.2</td>\n",
       "      <td>12.9</td>\n",
       "      <td>6.0</td>\n",
       "      <td>2.0</td>\n",
       "    </tr>\n",
       "    <tr>\n",
       "      <th>98</th>\n",
       "      <td>24.3</td>\n",
       "      <td>70.5</td>\n",
       "      <td>18.0</td>\n",
       "      <td>6.0</td>\n",
       "      <td>3.0</td>\n",
       "    </tr>\n",
       "    <tr>\n",
       "      <th>99</th>\n",
       "      <td>20.9</td>\n",
       "      <td>56.7</td>\n",
       "      <td>14.4</td>\n",
       "      <td>6.0</td>\n",
       "      <td>4.0</td>\n",
       "    </tr>\n",
       "  </tbody>\n",
       "</table>\n",
       "<p>100 rows × 5 columns</p>\n",
       "</div>"
      ],
      "text/plain": [
       "    temperature  humidity  light_intensity  weekday  hour\n",
       "0          17.0      75.4             14.0      2.0   1.0\n",
       "1          19.5      49.6              9.7      2.0   2.0\n",
       "2          23.8      54.4             18.2      2.0   3.0\n",
       "3          16.2      57.3              0.5      2.0   4.0\n",
       "4          16.2      68.4              5.7      2.0   5.0\n",
       "..          ...       ...              ...      ...   ...\n",
       "95         20.0      42.6             18.2      6.0   0.0\n",
       "96         23.9      70.1              3.7      6.0   1.0\n",
       "97         23.0      57.2             12.9      6.0   2.0\n",
       "98         24.3      70.5             18.0      6.0   3.0\n",
       "99         20.9      56.7             14.4      6.0   4.0\n",
       "\n",
       "[100 rows x 5 columns]"
      ]
     },
     "execution_count": 41,
     "metadata": {},
     "output_type": "execute_result"
    }
   ],
   "source": [
    "y = df[['blind_pos', 'window_pos', 'sensitivity']]\n",
    "\n",
    "def label_date(row):\n",
    "    weekd = row['rdate'].weekday()\n",
    "    return float(weekd)\n",
    "\n",
    "def label_hour(row):\n",
    "    return float(row['rdate'].hour)\n",
    "\n",
    "df['weekday'] = df.apply(label_date, axis=1)\n",
    "df['hour'] = df.apply(label_hour, axis=1)\n",
    "df = df.drop(columns = ['id', 'blind_pos', 'window_pos', 'sensitivity', 'rdate'])\n",
    "df.head(100)"
   ]
  },
  {
   "cell_type": "code",
   "execution_count": 42,
   "metadata": {},
   "outputs": [],
   "source": [
    "x_train, x_test, y_train, y_test = train_test_split(df, y, test_size=.25, random_state=42)\n",
    "y_blind_train = y_train['blind_pos']\n",
    "y_blind_test = y_test['blind_pos']\n",
    "y_window_train = y_train['window_pos']\n",
    "y_window_test = y_test['window_pos']\n",
    "y_sensitivity_train = y_train['sensitivity']\n",
    "y_sensitivity_test = y_test['sensitivity']\n"
   ]
  },
  {
   "cell_type": "code",
   "execution_count": 44,
   "metadata": {},
   "outputs": [
    {
     "name": "stdout",
     "output_type": "stream",
     "text": [
      "\n",
      "ACCURACY OF THE MODEL: 0.9523809523809523\n"
     ]
    }
   ],
   "source": [
    "from sklearn.ensemble import RandomForestClassifier\n",
    "clf_blind = RandomForestClassifier(n_estimators = 100) \n",
    "clf_blind.fit(x_train, y_blind_train)\n",
    " \n",
    "# performing predictions on the test dataset\n",
    "y_blind_pred = clf_blind.predict(x_test)\n",
    " \n",
    "from sklearn import metrics  \n",
    "print()\n",
    " \n",
    "# using metrics module for accuracy calculation\n",
    "print(\"ACCURACY OF THE MODEL:\", metrics.accuracy_score(y_blind_test, y_blind_pred))"
   ]
  },
  {
   "cell_type": "code",
   "execution_count": 45,
   "metadata": {},
   "outputs": [
    {
     "name": "stdout",
     "output_type": "stream",
     "text": [
      "\n",
      "ACCURACY OF THE MODEL: 0.9761904761904762\n"
     ]
    }
   ],
   "source": [
    "clf_window = RandomForestClassifier(n_estimators = 100) \n",
    "clf_window.fit(x_train, y_window_train)\n",
    " \n",
    "# performing predictions on the test dataset\n",
    "y_window_pred = clf_window.predict(x_test)\n",
    " \n",
    "from sklearn import metrics  \n",
    "print()\n",
    " \n",
    "# using metrics module for accuracy calculation\n",
    "print(\"ACCURACY OF THE MODEL:\", metrics.accuracy_score(y_window_test, y_window_pred))"
   ]
  },
  {
   "cell_type": "code",
   "execution_count": 46,
   "metadata": {},
   "outputs": [
    {
     "name": "stdout",
     "output_type": "stream",
     "text": [
      "\n",
      "ACCURACY OF THE MODEL: 0.023809523809523808\n"
     ]
    }
   ],
   "source": [
    "clf_sensitivity = RandomForestClassifier(n_estimators = 100) \n",
    "clf_sensitivity.fit(x_train, y_sensitivity_train)\n",
    " \n",
    "# performing predictions on the test dataset\n",
    "y_sensitivity_pred = clf_sensitivity.predict(x_test)\n",
    " \n",
    "from sklearn import metrics  \n",
    "print()\n",
    " \n",
    "# using metrics module for accuracy calculation\n",
    "print(\"ACCURACY OF THE MODEL:\", metrics.accuracy_score(y_sensitivity_test, y_sensitivity_pred))"
   ]
  }
 ],
 "metadata": {
  "kernelspec": {
   "display_name": "bit",
   "language": "python",
   "name": "python3"
  },
  "language_info": {
   "codemirror_mode": {
    "name": "ipython",
    "version": 3
   },
   "file_extension": ".py",
   "mimetype": "text/x-python",
   "name": "python",
   "nbconvert_exporter": "python",
   "pygments_lexer": "ipython3",
   "version": "3.11.8"
  }
 },
 "nbformat": 4,
 "nbformat_minor": 2
}
